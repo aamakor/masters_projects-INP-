{
  "cells": [
    {
      "cell_type": "markdown",
      "id": "4c75f30d",
      "metadata": {
        "id": "4c75f30d"
      },
      "source": [
        "## Data Processing :"
      ]
    },
    {
      "cell_type": "code",
      "execution_count": 30,
      "id": "ffd678fd",
      "metadata": {
        "colab": {
          "base_uri": "https://localhost:8080/",
          "height": 266
        },
        "id": "ffd678fd",
        "outputId": "87c53c4a-65a9-45c1-8feb-a8adc8b62fac"
      },
      "outputs": [
        {
          "output_type": "display_data",
          "data": {
            "image/png": "[encoded data removed]",
            "text/plain": [
              "<Figure size 432x288 with 1 Axes>"
            ]
          },
          "metadata": {
            "needs_background": "light"
          }
        }
      ],
      "source": [
        "import pandas as pd \n",
        "import numpy as np\n",
        "import matplotlib.pyplot as plt\n",
        "\n",
        "# Reading images as dataframes\n",
        "train_images_df = pd.read_csv('./drive/MyDrive/kernel/Xtr.csv', header=None)\n",
        "labels_df = pd.read_csv('./drive/MyDrive/kernel/Ytr.csv')\n",
        "train_images_df = train_images_df.loc[:,:3071]\n",
        "\n",
        "test_images_df = pd.read_csv('./drive/MyDrive/kernel/Xte.csv', header=None)\n",
        "test_images_df = test_images_df.loc[:,:3071]\n",
        "\n",
        "train_images = train_images_df.values\n",
        "labels = labels_df.Prediction\n",
        "\n",
        "test_images = test_images_df.values\n",
        "\n",
        "#  Construction of the data\n",
        "r, g, b = np.hsplit(train_images, 3)\n",
        "train_data = np.array([np.dstack((r[i], b[i], g[i])).reshape(32, 32, 3) for i in range(len(train_images))])\n",
        "\n",
        "r, g, b = np.hsplit(test_images, 3)\n",
        "data_test = np.array([np.dstack((r[i], b[i], g[i])).reshape(32, 32, 3) for i in range(len(test_images))])\n",
        "\n",
        "#  Data Visualisation \n",
        "black_white_images = np.sum(np.hsplit(train_images, 3), axis=0)/3\n",
        "gray_images = np.array([black_white_images[i].reshape((32, 32)) for i in range(len(train_images))])\n",
        "i = np.random.choice(range(5000))\n",
        "image = gray_images[i] \n",
        "plt.imshow(image)\n",
        "plt.show()"
      ]
    },
    {
      "cell_type": "markdown",
      "id": "a72ab929",
      "metadata": {
        "id": "a72ab929"
      },
      "source": [
        "## Data Augmentation"
      ]
    },
    {
      "cell_type": "code",
      "execution_count": 47,
      "id": "76801491",
      "metadata": {
        "id": "76801491"
      },
      "outputs": [],
      "source": [
        "# Flipping horintally and vertically image from the train set\n",
        "import cv2\n",
        "\n",
        "augmented_train = []\n",
        "\n",
        "for row in range(0, len(train_data)):\n",
        "    augmented_train.append(train_data[row])\n",
        "    augmented_train.append(cv2.flip(train_data[row],np.random.choice([0,1])))\n",
        "\n",
        "augmented_train=np.array(augmented_train)\n",
        "    \n",
        "# augmented labels\n",
        "\n",
        "augmented_labels = []\n",
        "for row in range(len(train_data)):\n",
        "    i = labels[row]\n",
        "    augmented_labels.append(i)\n",
        "    augmented_labels.append(i)\n",
        "    \n",
        "augmented_labels = np.array(augmented_labels)"
      ]
    },
    {
      "cell_type": "code",
      "source": [
        "len(augmented_train)"
      ],
      "metadata": {
        "colab": {
          "base_uri": "https://localhost:8080/"
        },
        "id": "xbn1QV4Qmh8g",
        "outputId": "88b9796a-8fb3-40d7-fa0d-914ecf7ef4f2"
      },
      "id": "xbn1QV4Qmh8g",
      "execution_count": 50,
      "outputs": [
        {
          "output_type": "execute_result",
          "data": {
            "text/plain": [
              "10000"
            ]
          },
          "metadata": {},
          "execution_count": 50
        }
      ]
    },
    {
      "cell_type": "markdown",
      "id": "0c29cda0",
      "metadata": {
        "id": "0c29cda0"
      },
      "source": [
        "## Feature Extraction:"
      ]
    },
    {
      "cell_type": "code",
      "execution_count": null,
      "id": "78955aef",
      "metadata": {
        "id": "78955aef"
      },
      "outputs": [],
      "source": [
        "import sys"
      ]
    },
    {
      "cell_type": "code",
      "execution_count": 55,
      "id": "0cdb79b7",
      "metadata": {
        "id": "0cdb79b7"
      },
      "outputs": [],
      "source": [
        "class SIFT:\n",
        "    # CONSTUCTOR \n",
        "    def __init__(self, gs = 8, ps = 16, gaussian_thres = 1.0, gaussian_sigma = 0.8, sift_thres = 0.2, \\\n",
        "                 num_angles = 12, num_bins = 5, alpha = 9.0):\n",
        "        self.num_angles = num_angles\n",
        "        self.num_bins = num_bins\n",
        "        self.alpha = alpha\n",
        "        self.angle_list = np.array(range(num_angles))*2.0*np.pi/num_angles\n",
        "        self.gs = gs\n",
        "        self.ps = ps\n",
        "        self.gaussian_thres = gaussian_thres\n",
        "        self.gaussian_sigma = gaussian_sigma\n",
        "        self.sift_thres = sift_thres\n",
        "        self.weights = self._get_weights(num_bins)\n",
        "\n",
        "    def get_params_image(self, image):\n",
        "        image = image.astype(np.double)\n",
        "        if image.ndim == 3:\n",
        "            image = np.mean(image, axis=2)\n",
        "        H, W = image.shape\n",
        "        gS = self.gs\n",
        "        pS = self.ps\n",
        "        remH = np.mod(H-pS, gS)\n",
        "        remW = np.mod(W-pS, gS)\n",
        "        offsetH = int(remH/2)\n",
        "        offsetW = int(remW/2)\n",
        "        gridH, gridW = np.meshgrid(range(offsetH, H-pS+1, gS), range(offsetW, W-pS+1, gS))\n",
        "        gridH = gridH.flatten()\n",
        "        gridW = gridW.flatten()\n",
        "        features = self._calculate_sift_grid(image, gridH, gridW)\n",
        "        features = self._normalize_sift(features)\n",
        "        positions = np.vstack((gridH / np.double(H), gridW / np.double(W)))\n",
        "        return features, positions\n",
        "    \n",
        "    def get_X(self, data):\n",
        "        out = []\n",
        "        for idx, dt in enumerate(data):\n",
        "            out.append(self.get_params_image(np.mean(np.double(dt), axis=2))[0][0])\n",
        "        return np.array(out)\n",
        "\n",
        "    # PRIVATE METHODS \n",
        "    def _get_weights(self, num_bins):\n",
        "        size_unit = np.array(range(self.ps))\n",
        "        sph, spw = np.meshgrid(size_unit, size_unit)\n",
        "        sph.resize(sph.size)\n",
        "        spw.resize(spw.size)\n",
        "        bincenter = np.array(range(1, num_bins*2, 2)) / 2.0 / num_bins * self.ps - 0.5\n",
        "        bincenter_h, bincenter_w = np.meshgrid(bincenter, bincenter)\n",
        "        bincenter_h.resize((bincenter_h.size, 1))\n",
        "        bincenter_w.resize((bincenter_w.size, 1))\n",
        "        dist_ph = abs(sph - bincenter_h)\n",
        "        dist_pw = abs(spw - bincenter_w)\n",
        "        weights_h = dist_ph / (self.ps / np.double(num_bins))\n",
        "        weights_w = dist_pw / (self.ps / np.double(num_bins))\n",
        "        weights_h = (1-weights_h) * (weights_h <= 1)\n",
        "        weights_w = (1-weights_w) * (weights_w <= 1)\n",
        "        return weights_h * weights_w\n",
        "\n",
        "    def _calculate_sift_grid(self, image, gridH, gridW):\n",
        "        H, W = image.shape\n",
        "        Npatches = gridH.size\n",
        "        features = np.zeros((Npatches, self.num_bins * self.num_bins * self.num_angles))\n",
        "        gaussian_height, gaussian_width = self._get_gauss_filter(self.gaussian_sigma)\n",
        "        IH = self._convolution2D(image, gaussian_height)\n",
        "        IW = self._convolution2D(image, gaussian_width)\n",
        "        Imag = np.sqrt(IH**2 + IW**2)\n",
        "        Itheta = np.arctan2(IH,IW)\n",
        "        Iorient = np.zeros((self.num_angles, H, W))\n",
        "        for i in range(self.num_angles):\n",
        "            Iorient[i] = Imag * np.maximum(np.cos(Itheta - self.angle_list[i])**self.alpha, 0)\n",
        "        for i in range(Npatches):\n",
        "            currFeature = np.zeros((self.num_angles, self.num_bins**2))\n",
        "            for j in range(self.num_angles):\n",
        "                currFeature[j] = np.dot(self.weights,\\\n",
        "                        Iorient[j,gridH[i]:gridH[i]+self.ps, gridW[i]:gridW[i]+self.ps].flatten())\n",
        "            features[i] = currFeature.flatten()\n",
        "        return features\n",
        "\n",
        "    def _normalize_sift(self, features):\n",
        "        siftlen = np.sqrt(np.sum(features**2, axis=1))\n",
        "        hcontrast = (siftlen >= self.gaussian_thres)\n",
        "        siftlen[siftlen < self.gaussian_thres] = self.gaussian_thres\n",
        "        features /= siftlen.reshape((siftlen.size, 1))\n",
        "        features[features>self.sift_thres] = self.sift_thres\n",
        "        features[hcontrast] /= np.sqrt(np.sum(features[hcontrast]**2, axis=1)).\\\n",
        "                reshape((features[hcontrast].shape[0], 1))\n",
        "        return features\n",
        "\n",
        "\n",
        "    def _get_gauss_filter(self, sigma):\n",
        "        gaussian_filter_amp = np.int(2*np.ceil(sigma))\n",
        "        gaussian_filter = np.array(range(-gaussian_filter_amp, gaussian_filter_amp+1))**2\n",
        "        gaussian_filter = gaussian_filter[:, np.newaxis] + gaussian_filter\n",
        "        gaussian_filter = np.exp(- gaussian_filter / (2.0 * sigma**2))\n",
        "        gaussian_filter /= np.sum(gaussian_filter)\n",
        "        gaussian_height, gaussian_width = np.gradient(gaussian_filter)\n",
        "        gaussian_height *= 2.0/np.sum(np.abs(gaussian_height))\n",
        "        gaussian_width  *= 2.0/np.sum(np.abs(gaussian_width))\n",
        "        return gaussian_height, gaussian_width\n",
        "    \n",
        "    def _convolution2D(self, image, kernel):\n",
        "        imRows, imCols = image.shape\n",
        "        kRows, kCols = kernel.shape\n",
        "\n",
        "        y = np.zeros((imRows,imCols))\n",
        "\n",
        "        kcenterX = kCols//2\n",
        "        kcenterY = kRows//2\n",
        "\n",
        "        for i in range(imRows):\n",
        "            for j in range(imCols):\n",
        "                for m in range(kRows):\n",
        "                    mm = kRows - 1 - m\n",
        "                    for n in range(kCols):\n",
        "                        nn = kCols - 1 - n\n",
        "\n",
        "                        ii = i + (m - kcenterY)\n",
        "                        jj = j + (n - kcenterX)\n",
        "\n",
        "                        if ii >= 0 and ii < imRows and jj >= 0 and jj < imCols :\n",
        "                            y[i][j] += image[ii][jj] * kernel[mm][nn]\n",
        "\n",
        "        return y"
      ]
    },
    {
      "cell_type": "code",
      "execution_count": 82,
      "id": "73c8416c",
      "metadata": {
        "id": "73c8416c"
      },
      "outputs": [],
      "source": [
        "params = { 'gs': 6,\n",
        "           'gamma': .6,\n",
        "           'A': 10.,\n",
        "           'ps': 31,\n",
        "           'sift_thres': .3,\n",
        "           'gaussian_thres': .7,\n",
        "           'gaussian_sigma': .4,\n",
        "           'num_angles': 12,\n",
        "           'num_bins': 5,\n",
        "           'alpha': 9.0 }"
      ]
    },
    {
      "cell_type": "code",
      "execution_count": 58,
      "id": "712a6a37",
      "metadata": {
        "id": "712a6a37"
      },
      "outputs": [],
      "source": [
        "extractor = SIFT(gs=params['gs'], \n",
        "                 ps=params['ps'], \n",
        "                 sift_thres=params['sift_thres'], \n",
        "                 gaussian_sigma=params['gaussian_sigma'], \n",
        "                 gaussian_thres=params['gaussian_thres'],\n",
        "                 num_angles=params['num_angles'],\n",
        "                 num_bins=params['num_bins'],\n",
        "                 alpha=params['alpha'])"
      ]
    },
    {
      "cell_type": "code",
      "source": [
        "X_train = extractor.get_X(augmented_train)"
      ],
      "metadata": {
        "id": "JuqsgcwgtddN"
      },
      "id": "JuqsgcwgtddN",
      "execution_count": null,
      "outputs": []
    },
    {
      "cell_type": "code",
      "source": [
        "X_test = extractor.get_X(data_test)"
      ],
      "metadata": {
        "id": "Q0dRjbWQtmQe"
      },
      "id": "Q0dRjbWQtmQe",
      "execution_count": null,
      "outputs": []
    },
    {
      "cell_type": "markdown",
      "id": "f6b8257a",
      "metadata": {
        "id": "f6b8257a"
      },
      "source": [
        "### Kernels"
      ]
    },
    {
      "cell_type": "code",
      "source": [
        "def euclidean_dist(X, Y):\n",
        "    \"\"\"\n",
        "    matrix of pairwise squared Euclidean distances\n",
        "    \"\"\"\n",
        "    norms_1 = (X ** 2).sum(axis=1)\n",
        "    norms_2 = (Y ** 2).sum(axis=1)\n",
        "    return np.abs(norms_1.reshape(-1, 1) + norms_2 - 2 * np.dot(X, Y.T))"
      ],
      "metadata": {
        "id": "pDBsQUf3vY4M"
      },
      "id": "pDBsQUf3vY4M",
      "execution_count": 74,
      "outputs": []
    },
    {
      "cell_type": "code",
      "source": [
        "class Kernel:\n",
        "\n",
        "    def linear():\n",
        "        def f(X1, X2):\n",
        "            return X1.dot(X2.T)\n",
        "        return f\n",
        "    \n",
        "    def quadratic():\n",
        "      def f(X1, X2):\n",
        "        return (np.dot(X1, X2.T) ** 2)\n",
        "      return f\n",
        "\n",
        "    def gaussian(gamma=5.0):\n",
        "      def f(X1, X2, gamma=5.0):\n",
        "        return np.exp(-np.linalg.norm(X1 - X2) ** 2 / (2 * (gamma ** 2)))\n",
        "      return f\n",
        "\n",
        "    def chi2(gamma):\n",
        "        def f(X1, X2):\n",
        "            out = np.zeros((X1.shape[0], X2.shape[0]))\n",
        "            n_X1 = X1.shape[0]\n",
        "            n_X2 = X2.shape[0]\n",
        "            n_features = X1.shape[1]\n",
        "\n",
        "            for i in range(n_X1):\n",
        "                for j in range(n_X2):\n",
        "                    p = 0\n",
        "                    for k in range(n_features):\n",
        "                        denominateur = (X1[i, k] - X2[j, k])\n",
        "                        nominateur = (X1[i, k] + X2[j, k])\n",
        "                        if nominateur != 0:\n",
        "                            p += denominateur * denominateur / nominateur\n",
        "                    out[i, j] = -p\n",
        "            tmp = gamma * out\n",
        "            return  np.exp(tmp, tmp)        \n",
        "        return f\n",
        "\n",
        "    def rbf(gamma=1.):\n",
        "        def f(X1, X2, gamma=1.):\n",
        "            dists = euclidean_dist(X1, X2)\n",
        "            return np.exp(-gamma * dists)\n",
        "        return f\n",
        "\n",
        "    def laplacian(sigma=1):\n",
        "      def f(X1,X2, sigma=1):\n",
        "        dists = euclidean_dist(X1, X2)\n",
        "        return np.exp(-1 / sigma * np.sqrt(dists))\n",
        "      return f"
      ],
      "metadata": {
        "id": "8C50qmg3uCYp"
      },
      "id": "8C50qmg3uCYp",
      "execution_count": 65,
      "outputs": []
    },
    {
      "cell_type": "markdown",
      "id": "cc54d24c",
      "metadata": {
        "id": "cc54d24c"
      },
      "source": [
        "Kernel Methods"
      ]
    },
    {
      "cell_type": "markdown",
      "source": [
        "\n",
        "Ridge Regression\n",
        "\n"
      ],
      "metadata": {
        "id": "VT4KQSZ1v6Il"
      },
      "id": "VT4KQSZ1v6Il"
    },
    {
      "cell_type": "code",
      "execution_count": 66,
      "id": "45ca9dfc",
      "metadata": {
        "id": "45ca9dfc"
      },
      "outputs": [],
      "source": [
        "import numpy as np\n",
        "from scipy.linalg import sqrtm,solve,inv"
      ]
    },
    {
      "cell_type": "code",
      "execution_count": 67,
      "id": "017f305c",
      "metadata": {
        "id": "017f305c"
      },
      "outputs": [],
      "source": [
        "class KRR(object):\n",
        "    '''\n",
        "    A class implementing Kernel Ridge Regression\n",
        "    '''\n",
        "    def __init__(self, lmbd=0.1):\n",
        "        self.lmbd = lmbd\n",
        "        \n",
        "    def fit(self,kernel_train,labels):\n",
        "        A = kernel_train + self.lmbd * len(kernel_train) * np.eye(len(kernel_train))\n",
        "        self.alpha = solve(A, labels, sym_pos=True)\n",
        "        self.alpha = np.nan_to_num(self.alpha)\n",
        "\n",
        "    def predict(self,kernel_test):\n",
        "        return np.dot(kernel_test, self.alpha)"
      ]
    },
    {
      "cell_type": "code",
      "execution_count": 68,
      "id": "42993418",
      "metadata": {
        "id": "42993418"
      },
      "outputs": [],
      "source": [
        "def predict_class(prediction):\n",
        "    return [int(pred) for pred in prediction]\n",
        "def score(prediction,y):\n",
        "    return np.mean(prediction==y)"
      ]
    },
    {
      "cell_type": "markdown",
      "source": [
        "Parameters tunuing and Scoring ;"
      ],
      "metadata": {
        "id": "0y_ABfswz22m"
      },
      "id": "0y_ABfswz22m"
    },
    {
      "cell_type": "code",
      "execution_count": 69,
      "id": "cce5eb4e",
      "metadata": {
        "id": "cce5eb4e"
      },
      "outputs": [],
      "source": [
        "def cross_validation(X, y, nb_folds):\n",
        "    subset_size = int(len(X) / nb_folds)\n",
        "    for k in range(nb_folds):\n",
        "        X_train = np.concatenate((X[:k * subset_size], X[(k + 1) * subset_size:]), axis=0)\n",
        "        X_test = X[k * subset_size:][:subset_size]\n",
        "        y_train =  np.concatenate((y[:k * subset_size], y[(k + 1) * subset_size:]), axis=0)\n",
        "        y_test = y[k * subset_size:][:subset_size]\n",
        "        yield X_train, y_train, X_test, y_test"
      ]
    },
    {
      "cell_type": "code",
      "execution_count": 76,
      "id": "2ebf7c87",
      "metadata": {
        "id": "2ebf7c87"
      },
      "outputs": [],
      "source": [
        "lmbds = [0.000001,0.00001,0.0001,0.001,0.01,0.1] \n",
        "scores = []\n",
        "for lmbd, iteration in zip(lmbds,cross_validation(X_train, augmented_labels , 6)):\n",
        "    X_tr, y_tr, X_te, y_te = iteration \n",
        "    clf = KRR(lmbd)\n",
        "    kernel_train = Kernel.rbf()(X_tr,X_tr) \n",
        "    kernel_test = Kernel.rbf()(X_te,X_tr)\n",
        "    clf.fit(kernel_train,y_tr)\n",
        "    preds = clf.predict(kernel_test)\n",
        "    label = predict_class(preds)\n",
        "    scores.append(score(label,y_te))"
      ]
    },
    {
      "cell_type": "code",
      "source": [
        "scores"
      ],
      "metadata": {
        "id": "H4Q3Rd4N2yNj"
      },
      "id": "H4Q3Rd4N2yNj",
      "execution_count": null,
      "outputs": []
    },
    {
      "cell_type": "code",
      "execution_count": null,
      "id": "07f6d322",
      "metadata": {
        "id": "07f6d322"
      },
      "outputs": [],
      "source": [
        "clf = KRR(0.000001) "
      ]
    },
    {
      "cell_type": "code",
      "execution_count": null,
      "id": "4b32480e",
      "metadata": {
        "id": "4b32480e"
      },
      "outputs": [],
      "source": [
        "for X_tr, y_tr, X_te, y_te in cross_validation(X_train, augmented_labels , 10):\n",
        "    kernel_train = rbf_kernel(X_tr,X_tr) \n",
        "    kernel_test = rbf_kernel(X_te,X_tr)\n",
        "    clf.fit(kernel_train,y_tr)\n",
        "    preds = clf.predict(kernel_test)\n",
        "    label = predict_class(preds)\n",
        "    scores.append(score(label,y_te))"
      ]
    },
    {
      "cell_type": "code",
      "execution_count": null,
      "id": "b19a8e82",
      "metadata": {
        "id": "b19a8e82",
        "outputId": "b7d264a8-282a-4c59-9066-b46b5c6260b4"
      },
      "outputs": [
        {
          "data": {
            "text/plain": [
              "0.14896689444644218"
            ]
          },
          "execution_count": 232,
          "metadata": {},
          "output_type": "execute_result"
        }
      ],
      "source": [
        "np.mean(scores)"
      ]
    },
    {
      "cell_type": "code",
      "execution_count": null,
      "id": "cc5a6608",
      "metadata": {
        "id": "cc5a6608"
      },
      "outputs": [],
      "source": [
        "# best : 0.0001, rbf_kernel"
      ]
    },
    {
      "cell_type": "markdown",
      "source": [
        "Logistic Regression"
      ],
      "metadata": {
        "id": "xeU-10BMGcmM"
      },
      "id": "xeU-10BMGcmM"
    },
    {
      "cell_type": "markdown",
      "source": [
        "Weighted ridge regression"
      ],
      "metadata": {
        "id": "UKBkl3SqGgsD"
      },
      "id": "UKBkl3SqGgsD"
    },
    {
      "cell_type": "code",
      "execution_count": null,
      "id": "0a41ca3e",
      "metadata": {
        "id": "0a41ca3e"
      },
      "outputs": [],
      "source": [
        "import numpy as np\n",
        "from scipy.linalg import sqrtm,solve,inv\n",
        "\n",
        "class WKRR(object):\n",
        "    '''\n",
        "    A class implementing Weighted Kernel Ridge Regression\n",
        "    '''\n",
        "    def __init__(self, lmbd=0.1):\n",
        "        self.lmbd = lmbd\n",
        "\n",
        "    def fit(self,kernel_train, labels , Weights):\n",
        "        W_12 = np.sqrt(Weights)\n",
        "        n = kernel_train.shape[0]\n",
        "        to_inv = np.dot(W_12,np.dot(kernel_train,W_12).T)+n*self.lmbd*np.eye(n)\n",
        "        to_inv = np.linalg.inv(to_inv)\n",
        "        self.alpha = np.dot(np.dot(W_12,np.dot(to_inv,W_12).T),labels)\n",
        "    \n",
        "    def get_coef(self):\n",
        "        return self.alpha\n",
        "    \n",
        "    def predict(self,kernel_test):\n",
        "        return np.dot(kernel_test,self.alpha)"
      ]
    },
    {
      "cell_type": "code",
      "execution_count": null,
      "id": "1538cb17",
      "metadata": {
        "id": "1538cb17"
      },
      "outputs": [],
      "source": [
        "sigmoid = lambda x:1/(1+np.exp(-x))\n",
        "def compute_W(K,y,alpha):\n",
        "    m = np.dot(K,alpha)\n",
        "    return np.array([sigmoid(y[i]*m[i])*sigmoid(-y[i]*m[i]) for i in range(len(m))])\n",
        "def compute_Z(K,y,alpha):\n",
        "    m = np.dot(K,alpha)\n",
        "    return np.array([m[i]+y[i]/sigmoid(y[i]*m[i]) for i in range(len(m))])"
      ]
    },
    {
      "cell_type": "code",
      "execution_count": null,
      "id": "849f653e",
      "metadata": {
        "id": "849f653e"
      },
      "outputs": [],
      "source": [
        "class KernelLogisticRegression:\n",
        "    def __init__(self,init_coef=0):\n",
        "        if init_coef==0:\n",
        "            self.alpha_ = 0\n",
        "    \n",
        "    def fit(self,kernel_train,labels,alpha=None,tolerance=1,lambda_regularisation=0):\n",
        "        \n",
        "        if np.array((alpha==None)).any():\n",
        "            alpha = np.random.rand(kernel_train.shape[0],1)\n",
        "        \n",
        "        old_alpha = np.array(alpha)\n",
        "        W = np.nan_to_num(compute_W(kernel_train,labels,alpha))\n",
        "        z = np.nan_to_num(compute_Z(kernel_train,labels,alpha))\n",
        "        WKR = WKRR(lmbd = lambda_regularisation)\n",
        "        WKR.fit(kernel_train,labels,z)\n",
        "        alpha = WKR.get_coef()\n",
        "        print(np.linalg.norm(alpha-old_alpha))\n",
        "        print(alpha)\n",
        "        if (np.linalg.norm(alpha-old_alpha)>tolerance):\n",
        "            self.fit(kernel_train,label,alpha,tolerance,lambda_regularisation)\n",
        "        else:\n",
        "            self.alpha_=alpha\n",
        "    \n",
        "    def get_coef(self):\n",
        "        return list(self.alpha_)\n",
        "    \n",
        "    def predict(self,kernel_test,alpha):\n",
        "        prediction = ((alpha.T.dot(kernel_test)).T).reshape(-1)\n",
        "        prediction= sigmoid(prediction).reshape(-1)\n",
        "        return prediction"
      ]
    },
    {
      "cell_type": "code",
      "execution_count": null,
      "id": "91ccd163",
      "metadata": {
        "id": "91ccd163"
      },
      "outputs": [],
      "source": [
        "clf = KernelLogisticRegression()"
      ]
    },
    {
      "cell_type": "markdown",
      "source": [
        "SVM"
      ],
      "metadata": {
        "id": "hq1kznt5w2ix"
      },
      "id": "hq1kznt5w2ix"
    },
    {
      "cell_type": "code",
      "execution_count": 85,
      "id": "f65ab29a",
      "metadata": {
        "colab": {
          "base_uri": "https://localhost:8080/"
        },
        "id": "f65ab29a",
        "outputId": "3ae4c701-6334-44bc-cec5-2300a97d56d6"
      },
      "outputs": [
        {
          "output_type": "stream",
          "name": "stdout",
          "text": [
            "\u001b[K     |████████████████████████████████| 308 kB 5.1 MB/s \n",
            "\u001b[K     |████████████████████████████████| 80 kB 7.8 MB/s \n",
            "\u001b[K     |████████████████████████████████| 210 kB 68.9 MB/s \n",
            "\u001b[K     |████████████████████████████████| 75 kB 2.9 MB/s \n",
            "\u001b[K     |████████████████████████████████| 113 kB 65.4 MB/s \n",
            "\u001b[K     |████████████████████████████████| 49 kB 4.4 MB/s \n",
            "\u001b[K     |████████████████████████████████| 149 kB 61.1 MB/s \n",
            "\u001b[?25h  Building wheel for pyperclip (setup.py) ... \u001b[?25l\u001b[?25hdone\n"
          ]
        }
      ],
      "source": [
        "!pip install cvxopt -q\n",
        "!pip install optuna -q"
      ]
    },
    {
      "cell_type": "code",
      "execution_count": 87,
      "id": "27511cc0",
      "metadata": {
        "id": "27511cc0"
      },
      "outputs": [],
      "source": [
        "import cvxopt"
      ]
    },
    {
      "cell_type": "code",
      "execution_count": 91,
      "id": "b17638de",
      "metadata": {
        "id": "b17638de"
      },
      "outputs": [],
      "source": [
        "class SVM:\n",
        "    \n",
        "    def __init__(self, A=1.0, kernel='linear', gamma=0.6, deg=2):\n",
        "        self.A = A \n",
        "        self.deg = deg\n",
        "        self.gamma = gamma\n",
        "        self.kernel = self._get_kernel(kernel, gamma=gamma, degree=deg)\n",
        "    \n",
        "    def fit(self, X, y):\n",
        "        self._X, self._y = X, y\n",
        "        \n",
        "        self.labels = np.unique(y)\n",
        "        self.n_labels = len(self.labels)\n",
        "        self._K = self.kernel(X, X)\n",
        "        \n",
        "        # OneVsAll\n",
        "        models = {}\n",
        "        for label in self.labels:\n",
        "            models[label] = {}\n",
        "            y_label = np.array([1. if i == label else -1. for i in y])\n",
        "            w, b, mu_s, i_s = self._fit_binary(X, y_label)\n",
        "            \n",
        "            models[label]['y'] = y_label\n",
        "            models[label]['w'] = w\n",
        "            models[label]['b'] = b  \n",
        "            models[label]['mu_s'] = mu_s\n",
        "            models[label]['i_s'] = i_s\n",
        "    \n",
        "        self.models = models\n",
        "            \n",
        "    def get_params(self):\n",
        "        return {\n",
        "            'X': self._X,\n",
        "            'y': self._y,\n",
        "            'K': self._K,\n",
        "            'n_labels': self.n_labels,\n",
        "            'labels': self.labels,\n",
        "            'models': self.models,\n",
        "            'A': self.A,\n",
        "            'degree': self.deg,\n",
        "            'gamma': self.gamma,\n",
        "            'training_score': self.score(self._X, self._y)\n",
        "        }\n",
        "    \n",
        "    def set_params(self, params):\n",
        "        self._X = params['X']\n",
        "        self._y = params['y']\n",
        "        self._K = params['K']\n",
        "        self.n_labels = params['n_labels']\n",
        "        self.labels = params['labels']\n",
        "        self.models = params['models']\n",
        "        self.A = params['A']\n",
        "        self.deg = params['degree']\n",
        "        self.gamma = params['gamma']\n",
        "    \n",
        "    def predict(self, X):\n",
        "        return self.labels[np.argmax(np.array([self._predict(X, self.models[label]['y'], self.models[label]['i_s'], self.models[label]['mu_s'], self.models[label]['b']) for label in self.labels]), axis=0)]\n",
        "        \n",
        "    def score(self, X, y):\n",
        "        return np.mean(self.predict(X) == y)\n",
        "    \n",
        "    \n",
        "    def _qp(self, H, e, A, b, C=np.inf, l=1e-8, verbose=True):\n",
        "        # Gram matrix\n",
        "        n = H.shape[0]\n",
        "        H = cvxopt.matrix(H)\n",
        "        A = cvxopt.matrix(A, (1, n))\n",
        "        e = cvxopt.matrix(-e)\n",
        "        b = cvxopt.matrix(0.0)\n",
        "        if C == np.inf:\n",
        "            G = cvxopt.matrix(np.diag(np.ones(n) * -1))\n",
        "            h = cvxopt.matrix(np.zeros(n))\n",
        "        else:\n",
        "            G = cvxopt.matrix(np.concatenate([np.diag(np.ones(n) * -1),\n",
        "                                             np.diag(np.ones(n))], axis=0))\n",
        "            h = cvxopt.matrix(np.concatenate([np.zeros(n), C * np.ones(n)]))\n",
        "\n",
        "        # Solve QP problem\n",
        "        cvxopt.solvers.options['show_progress'] = verbose\n",
        "        solution = cvxopt.solvers.qp(H, e, G, h, A, b)\n",
        "\n",
        "        # Lagrange multipliers\n",
        "        mu = np.ravel(solution['x'])\n",
        "        return mu\n",
        "    \n",
        "    def _predict(self, X, y_model, i_s, mu_s, b):\n",
        "        X_support = self._X[i_s]\n",
        "        G = self.kernel(X, X_support)\n",
        "        return G.dot(mu_s * y_model[i_s]) + b\n",
        "    \n",
        "    def _fit_binary(self, X, y):\n",
        "        mu_s, i_s = self._svm_solver_non_sep(self._K, y, self.A)\n",
        "        w = self._get_w(mu_s, i_s, X, y)\n",
        "        b = self._compute_b(self._K, y, mu_s, i_s)\n",
        "        return w, b, mu_s, i_s\n",
        "    \n",
        "    def _svm_solver_non_sep(self, K, y, C):\n",
        "        n = y.shape[0]\n",
        "        y = y.reshape((n, 1))\n",
        "        H = np.dot(y, y.T)*K\n",
        "        e = np.ones(n)\n",
        "        A = y\n",
        "        b = np.zeros(n)\n",
        "        mu = self._qp(H, e, A, b, C, l=1e-8, verbose=False)\n",
        "        i_s = np.where(np.abs(mu) > 1e-5)[0]\n",
        "        mu_s = mu[i_s]\n",
        "        return mu_s, i_s\n",
        "    \n",
        "    def _get_w(self, mu_s, i_s, X, y):\n",
        "        return np.sum((mu_s * y[i_s])[: , None] * X[i_s], axis=0)\n",
        "    \n",
        "    def _get_kernel(self, kernel, gamma, degree):\n",
        "        return {\n",
        "            'linear': Kernel.linear(),\n",
        "            'gaussian': Kernel.gaussian(gamma),\n",
        "            'quadratic' : Kernel.quadratic(),\n",
        "            'chi2': Kernel.chi2(gamma),\n",
        "            'rbf' : Kernel.rbf(gamma),\n",
        "            'laplacian':Kernel.laplacian(gamma)\n",
        "        }[kernel]\n",
        "\n",
        "    def _compute_b(self, K, y, mu_s, i_s):\n",
        "        num_s_vector = i_s.size\n",
        "        y_support = y[i_s]\n",
        "        K_support = K[i_s][:, i_s]\n",
        "        b = [y_support[j] - sum([mu_s[i]*y_support[i]*K_support[i][j] for i in range(num_s_vector)]) for j in range(num_s_vector)]\n",
        "        return np.mean(b)"
      ]
    },
    {
      "cell_type": "code",
      "execution_count": 92,
      "id": "6d5f5ad0",
      "metadata": {
        "id": "6d5f5ad0"
      },
      "outputs": [],
      "source": [
        "clf = SVM(kernel='rbf', A=params['A'], gamma=params['gamma'])"
      ]
    },
    {
      "cell_type": "code",
      "execution_count": 93,
      "id": "c3bfa888",
      "metadata": {
        "id": "c3bfa888"
      },
      "outputs": [],
      "source": [
        "clf.fit(X_train, augmented_labels)"
      ]
    },
    {
      "cell_type": "code",
      "execution_count": null,
      "id": "b8137a82",
      "metadata": {
        "id": "b8137a82"
      },
      "outputs": [],
      "source": [
        "pred = clf.predict(X_test)"
      ]
    },
    {
      "cell_type": "markdown",
      "source": [
        "Submission"
      ],
      "metadata": {
        "id": "3CNIKkjOxGjE"
      },
      "id": "3CNIKkjOxGjE"
    },
    {
      "cell_type": "code",
      "execution_count": null,
      "id": "04df7417",
      "metadata": {
        "id": "04df7417"
      },
      "outputs": [],
      "source": [
        "Yte = {'Prediction' : pred}\n",
        "dataframe = pd.DataFrame(Yte)\n",
        "dataframe.index += 1\n",
        "dataframe.to_csv('./Desktop/Yte_pred.csv',index_label='Id')"
      ]
    }
  ],
  "metadata": {
    "kernelspec": {
      "display_name": "Python 3",
      "language": "python",
      "name": "python3"
    },
    "language_info": {
      "codemirror_mode": {
        "name": "ipython",
        "version": 3
      },
      "file_extension": ".py",
      "mimetype": "text/x-python",
      "name": "python",
      "nbconvert_exporter": "python",
      "pygments_lexer": "ipython3",
      "version": "3.8.8"
    },
    "colab": {
      "name": "Kernel Methods .ipynb",
      "provenance": []
    }
  },
  "nbformat": 4,
  "nbformat_minor": 5
}